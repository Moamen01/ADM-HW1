{
 "cells": [
  {
   "cell_type": "code",
   "execution_count": 1,
   "metadata": {},
   "outputs": [
    {
     "name": "stdout",
     "output_type": "stream",
     "text": [
      "Hello, World!\n"
     ]
    }
   ],
   "source": [
    "#Say \"Hello, World!\" With Python\n",
    "\n",
    "print(\"Hello, World!\")"
   ]
  },
  {
   "cell_type": "code",
   "execution_count": 2,
   "metadata": {},
   "outputs": [
    {
     "name": "stdout",
     "output_type": "stream",
     "text": [
      "3\n",
      "Weird\n"
     ]
    }
   ],
   "source": [
    "#Python If-Else\n",
    "\n",
    "import math\n",
    "import os\n",
    "import random\n",
    "import re\n",
    "import sys\n",
    "if __name__ == '__main__':\n",
    "    n = int(input().strip())\n",
    "    if (n%2 == 1):\n",
    "        print(\"Weird\")\n",
    "    else:\n",
    "        if((n>=2) & (n<=5)):\n",
    "            print(\"Not Weird\")\n",
    "        elif((n>=6) & (n<=20)):\n",
    "            print(\"Weird\")\n",
    "        elif(n>20):\n",
    "            print(\"Not Weird\")"
   ]
  },
  {
   "cell_type": "code",
   "execution_count": 3,
   "metadata": {},
   "outputs": [
    {
     "name": "stdout",
     "output_type": "stream",
     "text": [
      "2\n",
      "5\n",
      "7\n",
      "-3\n",
      "10\n"
     ]
    }
   ],
   "source": [
    "#Arithmetic Operators\n",
    "\n",
    "if __name__ == '__main__':\n",
    "    a = int(input())\n",
    "    b = int(input())\n",
    "    print(a+b)\n",
    "    print(a-b)\n",
    "    print(a*b)"
   ]
  },
  {
   "cell_type": "code",
   "execution_count": 4,
   "metadata": {},
   "outputs": [
    {
     "name": "stdout",
     "output_type": "stream",
     "text": [
      "6\n",
      "3\n",
      "2\n",
      "2.0\n"
     ]
    }
   ],
   "source": [
    "#Python: Division\n",
    "\n",
    "if __name__ == '__main__':\n",
    "    a = int(input())\n",
    "    b = int(input())\n",
    "    print(a//b)\n",
    "    print(a/b)"
   ]
  },
  {
   "cell_type": "code",
   "execution_count": 5,
   "metadata": {},
   "outputs": [
    {
     "name": "stdout",
     "output_type": "stream",
     "text": [
      "7\n",
      "0\n",
      "1\n",
      "4\n",
      "9\n",
      "16\n",
      "25\n",
      "36\n"
     ]
    }
   ],
   "source": [
    "#Loops\n",
    "\n",
    "if __name__ == '__main__':\n",
    "    n = int(input())\n",
    "    for i in range(0,n):\n",
    "        print(i**2)"
   ]
  },
  {
   "cell_type": "code",
   "execution_count": 6,
   "metadata": {},
   "outputs": [],
   "source": [
    "#Write a function\n",
    "\n",
    "def is_leap(year):\n",
    "    leap = False\n",
    "    \n",
    "    if (year%100 == 0):\n",
    "        if (year%400 == 0):\n",
    "            leap = True\n",
    "    elif (year%4 ==0):\n",
    "        leap = True\n",
    "    \n",
    "    return leap"
   ]
  },
  {
   "cell_type": "code",
   "execution_count": 7,
   "metadata": {},
   "outputs": [
    {
     "name": "stdout",
     "output_type": "stream",
     "text": [
      "3\n",
      "123\n"
     ]
    }
   ],
   "source": [
    "#Print Function\n",
    "\n",
    "if __name__ == '__main__':\n",
    "    n = int(input())\n",
    "    print(*range(1,n+1),sep = '')"
   ]
  },
  {
   "cell_type": "code",
   "execution_count": null,
   "metadata": {},
   "outputs": [],
   "source": [
    "#Find the Runner-Up Score!\n",
    "if __name__ == '__main__':\n",
    "    n = int(input())\n",
    "    arr = map(int, input().split())\n",
    "    lst = list(arr) #Convert MAP to LIST to use remove()\n",
    "    max_ = max(lst)\n",
    "    while max(lst)==max_: \n",
    "        #loop over the list to remove all MAX values\n",
    "        lst.remove(max(lst))\n",
    "\n",
    "    print(max(lst)) #NOW the MAX value = the runner-up"
   ]
  },
  {
   "cell_type": "code",
   "execution_count": null,
   "metadata": {},
   "outputs": [],
   "source": [
    "#Nested Lists\n",
    "\n",
    "if __name__ == '__main__':\n",
    "    names=[]\n",
    "    scores=[]\n",
    "    for _ in range(int(input())):\n",
    "        name = input()\n",
    "        names.append(name) #store names in a list\n",
    "        score = float(input())\n",
    "        scores.append(score) #store scores in a list\n",
    "        \n",
    "    dic=dict(zip(names, scores)) #create Dict of names and scores\n",
    "    min_ = min(scores) \n",
    "    while min(scores)== min_: scores.remove(min(scores)) #remove the minimum scores\n",
    "    sec_min = min(scores) #the new min is the Seconed Lowest\n",
    "    output=[]\n",
    "    for name, score in dic.items(): \n",
    "        #Loop over our Dict to print ALL KEYS of the VALUE sec_min\n",
    "        if score == sec_min:\n",
    "            output.append(name)\n",
    "    output.sort()\n",
    "    print(\"\\n\".join(output))\n"
   ]
  },
  {
   "cell_type": "code",
   "execution_count": null,
   "metadata": {},
   "outputs": [],
   "source": [
    "#Finding the percentage\n",
    "\n",
    "if __name__ == '__main__':\n",
    "    n = int(input())\n",
    "    student_marks = {}\n",
    "    for _ in range(n):\n",
    "        name, *line = input().split()\n",
    "        scores = list(map(float, line))\n",
    "        student_marks[name] = scores\n",
    "    query_name = input()\n",
    "    avg = sum(student_marks.get(query_name))/3.0 #Get the average\n",
    "    print(\"%.2f\" % avg) #print to 2 decimal places.\n"
   ]
  },
  {
   "cell_type": "code",
   "execution_count": null,
   "metadata": {},
   "outputs": [],
   "source": [
    "#Lists\n",
    "\n",
    "if __name__ == '__main__':\n",
    "    N = int(input())\n",
    "    l=[]\n",
    "    for i in range(N):\n",
    "        cmd = input().split()\n",
    "        if cmd[0]== 'print':\n",
    "            eval('print('+'l)')\n",
    "        elif cmd[0] == 'append' or cmd[0] == 'remove': # Funks take 1 arrg\n",
    "            eval('l.'+cmd[0]+'('+cmd[1]+')')\n",
    "        elif cmd[0]== 'insert': #Func takes 2 arrg\n",
    "            eval('l.'+cmd[0]+'('+cmd[1]+','+cmd[2]+')')\n",
    "        else : eval('l.'+cmd[0]+'()') #Funcs take no arrg\n"
   ]
  },
  {
   "cell_type": "code",
   "execution_count": null,
   "metadata": {},
   "outputs": [],
   "source": [
    "#Tuples\n",
    "\n",
    "if __name__ == '__main__':\n",
    "    n = int(input())\n",
    "    integer_list = map(int, input().split())\n",
    "    t= tuple(integer_list) #convert list to tuple\n",
    "    print(hash(t))\n"
   ]
  },
  {
   "cell_type": "code",
   "execution_count": null,
   "metadata": {},
   "outputs": [],
   "source": [
    "#String Split and Join\n",
    "\n",
    "def split_and_join(line):\n",
    "    sl = line.split(' ')\n",
    "    return'-'.join(sl)"
   ]
  },
  {
   "cell_type": "code",
   "execution_count": null,
   "metadata": {},
   "outputs": [],
   "source": [
    "#What's Your Name?\n",
    "\n",
    "def print_full_name(a, b):\n",
    "    print(\"Hello {} {}! You just delved into python.\".format(a,b))\n"
   ]
  },
  {
   "cell_type": "code",
   "execution_count": null,
   "metadata": {},
   "outputs": [],
   "source": [
    "#Mutations\n",
    "\n",
    "def mutate_string(string, position, character):\n",
    "    return string[:position] + character + string[position+1:]\n"
   ]
  },
  {
   "cell_type": "code",
   "execution_count": null,
   "metadata": {},
   "outputs": [],
   "source": [
    "#Find a string\n",
    "\n",
    "def count_substring(string, sub_string):\n",
    "    counter=0\n",
    "    for i in range(0,len(string)):\n",
    "        #looping over all given string chars and check if the following len(sub_string) chars are equal to given sub_string\n",
    "        if string[i:i+len(sub_string)]== sub_string: counter+=1\n",
    "    return counter\n",
    "\n"
   ]
  },
  {
   "cell_type": "code",
   "execution_count": null,
   "metadata": {},
   "outputs": [],
   "source": [
    "#String Validators\n",
    "\n",
    "if __name__ == '__main__':\n",
    "    s = input()\n",
    "    output_list=[False, False, False, False, False]\n",
    "    for c in s:\n",
    "        if c.isalnum(): output_list[0]= True\n",
    "        if c.isalpha() : output_list[1]= True\n",
    "        if c.isdigit() : output_list[2]= True\n",
    "        if c.islower() : output_list[3]= True\n",
    "        if c.isupper() : output_list[4]= True\n",
    "    for i in output_list: print(i)\n",
    "  \n"
   ]
  },
  {
   "cell_type": "code",
   "execution_count": null,
   "metadata": {},
   "outputs": [],
   "source": [
    "#Text Alignment\n",
    "\n",
    "#Replace all ______ with rjust, ljust or center. \n",
    "\n",
    "\n",
    "thickness = int(input()) #This must be an odd number\n",
    "c = 'H'\n",
    "\n",
    "#Top Cone\n",
    "for i in range(thickness):\n",
    "    print((c*i).rjust(thickness-1)+c+(c*i).ljust(thickness-1))\n",
    "\n",
    "#Top Pillars\n",
    "for i in range(thickness+1):\n",
    "    print((c*thickness).center(thickness*2)+(c*thickness).center(thickness*6))\n",
    "\n",
    "#Middle Belt\n",
    "for i in range((thickness+1)//2):\n",
    "    print((c*thickness*5).center(thickness*6))    \n",
    "\n",
    "#Bottom Pillars\n",
    "for i in range(thickness+1):\n",
    "    print((c*thickness).center(thickness*2)+(c*thickness).center(thickness*6))    \n",
    "\n",
    "#Bottom Cone\n",
    "for i in range(thickness):\n",
    "    print(((c*(thickness-i-1)).rjust(thickness)+c+(c*(thickness-i-1)).ljust(thickness)).rjust(thickness*6))\n"
   ]
  },
  {
   "cell_type": "code",
   "execution_count": null,
   "metadata": {},
   "outputs": [],
   "source": [
    "#Text Wrap\n",
    "\n",
    "def wrap(string, max_width):\n",
    "    # Wrap this text. \n",
    "    wrapper = textwrap.TextWrapper(width=max_width) \n",
    "    word_list = wrapper.wrap(text=string)\n",
    "    # Print each line. \n",
    "    #for i in word_list: \n",
    "    #     print(i) \n",
    "    return \"\\n\".join(word_list )\n"
   ]
  },
  {
   "cell_type": "code",
   "execution_count": null,
   "metadata": {},
   "outputs": [],
   "source": [
    "#Designer Door Mat\n",
    "\n",
    "# I got this from discussios and I can't think about any better or simple way to do it :D\n",
    "n, m = map(int,input().split())\n",
    "pattern = [('.|.'*(2*i + 1)).center(m, '-') for i in range(n//2)]\n",
    "print('\\n'.join(pattern + ['WELCOME'.center(m, '-')] + pattern[::-1]))\n"
   ]
  },
  {
   "cell_type": "code",
   "execution_count": null,
   "metadata": {},
   "outputs": [],
   "source": [
    "#String Formatting\n",
    "\n",
    "def print_formatted(number):\n",
    "    # your code goes here\n",
    "    width = len(\"{0:b}\".format(number))\n",
    "    for i in range(1,number+1):\n",
    "        print(\"{0:{width}d} {0:{width}o} {0:{width}X} {0:{width}b}\".format(i, width=width))\n",
    "        "
   ]
  },
  {
   "cell_type": "code",
   "execution_count": null,
   "metadata": {},
   "outputs": [],
   "source": [
    "#No Idea!\n",
    "\n",
    "n, m = input().split()\n",
    "arr = input().split()\n",
    "A = set(input().split())\n",
    "B = set(input().split())\n",
    "output = 0\n",
    "for i in arr:\n",
    "    if i in A: output+=1\n",
    "    if i in B: output-=1\n",
    "print(output)\n"
   ]
  },
  {
   "cell_type": "code",
   "execution_count": null,
   "metadata": {},
   "outputs": [],
   "source": [
    "#Symmetric Difference\n",
    "\n",
    "#Reading inputs\n",
    "M,m=(int(input()),set(input().split()))\n",
    "N,n=(int(input()),set(input().split()))\n",
    "#printing symmetric differences\n",
    "print ('\\n'.join(sorted(set(m.difference(n)).union(set(n.difference(m))), key=int)))\n"
   ]
  },
  {
   "cell_type": "code",
   "execution_count": null,
   "metadata": {},
   "outputs": [],
   "source": [
    "#Set .add()\n",
    "\n",
    "#without using add() Func\n",
    "n = int(input())\n",
    "countries = set(input() for i in range(n))\n",
    "print(len(countries))\n"
   ]
  },
  {
   "cell_type": "code",
   "execution_count": null,
   "metadata": {},
   "outputs": [],
   "source": [
    "#Set .discard(), .remove() & .pop()\n",
    "\n",
    "n = int(input())\n",
    "s = set(map(int, input().split()))\n",
    "ops = int(input()) # num of Operations\n",
    "#using eval function\n",
    "for i in range(ops):\n",
    "    cmd = input().split()\n",
    "    if cmd[0]== 'pop':\n",
    "        eval('s.'+cmd[0]+'()')\n",
    "    else:\n",
    "        eval('s.'+cmd[0]+'('+cmd[1]+')')\n",
    "print(sum(s))\n"
   ]
  },
  {
   "cell_type": "code",
   "execution_count": null,
   "metadata": {},
   "outputs": [],
   "source": [
    "#Set .union() Operation\n",
    "\n",
    "ne = int(input())\n",
    "ne_nums= input().split()\n",
    "nf = int(input())\n",
    "nf_nums= input().split()\n",
    "print(len(set(ne_nums).union(set(nf_nums))))\n"
   ]
  },
  {
   "cell_type": "code",
   "execution_count": null,
   "metadata": {},
   "outputs": [],
   "source": [
    "#Set .intersection() Operation\n",
    "\n",
    "ne = int(input())\n",
    "ne_nums= input().split()\n",
    "nf = int(input())\n",
    "nf_nums= input().split()\n",
    "print(len(set(ne_nums).intersection(set(nf_nums))))\n"
   ]
  },
  {
   "cell_type": "code",
   "execution_count": null,
   "metadata": {},
   "outputs": [],
   "source": [
    "#Set .difference() Operation\n",
    "\n",
    "ne = int(input())\n",
    "ne_nums= input().split()\n",
    "nf = int(input())\n",
    "nf_nums= input().split()\n",
    "print(len(set(ne_nums).difference(set(nf_nums))))\n"
   ]
  },
  {
   "cell_type": "code",
   "execution_count": null,
   "metadata": {},
   "outputs": [],
   "source": [
    "#Set .symmetric_difference() Operation\n",
    "\n",
    "ne = int(input())\n",
    "ne_nums= input().split()\n",
    "nf = int(input())\n",
    "nf_nums= input().split()\n",
    "print(len(set(ne_nums).symmetric_difference(set(nf_nums))))\n"
   ]
  },
  {
   "cell_type": "code",
   "execution_count": null,
   "metadata": {},
   "outputs": [],
   "source": [
    "#Set Mutations\n",
    "\n",
    "nA = int(input())\n",
    "A = set(map(int, input().split()))\n",
    "n_ops = int(input()) # num of Operations\n",
    "#using eval function\n",
    "for i in range(n_ops):\n",
    "    cmd = input().split() #command + # elemnts in the other set\n",
    "    other_set = set(map(int, input().split())) # other set\n",
    "    eval('A.'+cmd[0]+'(other_set)') # run the command\n",
    "print(sum(A))\n"
   ]
  },
  {
   "cell_type": "code",
   "execution_count": null,
   "metadata": {},
   "outputs": [],
   "source": [
    "#The Captain's Room\n",
    "\n",
    "k = int(input())\n",
    "lst = list(map(int, input().split()))\n",
    "set_ = set(lst)\n",
    "all_rep_k = (sum(set_)*k) #all elements repeated k times including Captain room element\n",
    "all_rep_k_not_C = sum(lst) #all elements repeated k times excluding Captain room element appears once\n",
    "print( (all_rep_k - all_rep_k_not_C) //(k-1) ) # dividing by k-1 after subtraction \n"
   ]
  },
  {
   "cell_type": "code",
   "execution_count": null,
   "metadata": {},
   "outputs": [],
   "source": [
    "#Check Subset\n",
    "\n",
    "T = int(input())\n",
    "for i in range(T):\n",
    "    na,a = int(input()), set(map(int, input().split()))\n",
    "    nb, b = int(input()), set(map(int, input().split()))\n",
    "    print(set(a).intersection(set(b)) == set(a)) # if A intersection B = A THEN A is subset of B\n",
    "    "
   ]
  },
  {
   "cell_type": "code",
   "execution_count": null,
   "metadata": {},
   "outputs": [],
   "source": [
    "#Check Strict Superset\n",
    "\n",
    "A= set(map(int, input().split()))\n",
    "output= []\n",
    "for i in range(int(input())):\n",
    "    B= set(map(int, input().split()))\n",
    "    output.append(True) if set(A).intersection(set(B)) == set(B) else output.append(False)\n",
    "print(all(output))\n"
   ]
  },
  {
   "cell_type": "code",
   "execution_count": null,
   "metadata": {},
   "outputs": [],
   "source": [
    "#DefaultDict Tutorial\n",
    "\n",
    "from collections import defaultdict\n",
    "d = defaultdict(list)\n",
    "n, m = list(map(int, input().split()))\n",
    "\n",
    "for i in range(n):\n",
    "    d[input()].append(i + 1)\n",
    "\n",
    "for i in range(m):\n",
    "    print(' '.join(map(str, d[input()])) or -1)\n",
    "    "
   ]
  },
  {
   "cell_type": "code",
   "execution_count": null,
   "metadata": {},
   "outputs": [],
   "source": [
    "#Collections.namedtuple()\n",
    "\n",
    "from collections import namedtuple\n",
    "N = int(input())\n",
    "col_names= input().split()\n",
    "total_mark= 0\n",
    "for i in range(N):\n",
    "    students = namedtuple('student', col_names)\n",
    "    col1, col2, col3, col4 = input().split()\n",
    "    student = students(col1, col2, col3, col4)\n",
    "    total_mark += int(student.MARKS)\n",
    "print('{:.2f}'.format(total_mark/N))\n"
   ]
  },
  {
   "cell_type": "code",
   "execution_count": null,
   "metadata": {},
   "outputs": [],
   "source": [
    "#Collections.OrderedDict()\n",
    "\n",
    "from collections import OrderedDict\n",
    "N = int(input())\n",
    "items_dic = OrderedDict()\n",
    "for i in range(N):\n",
    "    item, _ , quan = input().rpartition(' ') #getting items and quan\n",
    "    items_dic[item] = items_dic.get(item, 0) + int(quan) #adding quan every iteration\n",
    "for item, quan in items_dic.items():\n",
    "    print(item, quan)\n",
    "    "
   ]
  },
  {
   "cell_type": "code",
   "execution_count": null,
   "metadata": {},
   "outputs": [],
   "source": [
    "#Word Order\n",
    "\n",
    "from collections import OrderedDict\n",
    "N = int(input())\n",
    "words = OrderedDict()\n",
    "for i in range(N):\n",
    "    word = input()\n",
    "    words[word]= words.get(word,0) + 1\n",
    "print(len(words))\n",
    "print(*words.values())\n"
   ]
  },
  {
   "cell_type": "code",
   "execution_count": null,
   "metadata": {},
   "outputs": [],
   "source": [
    "#Collections.deque()\n",
    "\n",
    "from collections import deque\n",
    "d = deque()\n",
    "N = int(input())\n",
    "for i in range(N):\n",
    "    cmd = input().split() \n",
    "    eval('d.'+cmd[0]+'()') if len(cmd)==1 else eval('d.'+cmd[0]+'('+cmd[1]+')') \n",
    "print(*d)\n"
   ]
  },
  {
   "cell_type": "code",
   "execution_count": null,
   "metadata": {},
   "outputs": [],
   "source": [
    "#Company Logo\n",
    "\n",
    "from collections import Counter\n",
    "s = sorted(input())\n",
    "for i in Counter(s).most_common(3):\n",
    "    print(*i)\n",
    "    "
   ]
  },
  {
   "cell_type": "code",
   "execution_count": null,
   "metadata": {},
   "outputs": [],
   "source": [
    "#Piling Up!\n",
    "\n",
    "for t in range(int(input())):\n",
    "    input()\n",
    "    lst = list(map(int, input().split()))\n",
    "    l = len(lst)\n",
    "    i = 0\n",
    "    while i < l - 1 and lst[i] >= lst[i+1]:\n",
    "        i += 1\n",
    "    while i < l - 1 and lst[i] <= lst[i+1]:\n",
    "        i += 1\n",
    "    print(\"Yes\") if i == l - 1 else print(\"No\")\n",
    "    "
   ]
  },
  {
   "cell_type": "code",
   "execution_count": null,
   "metadata": {},
   "outputs": [],
   "source": [
    "#Time Delta\n",
    "\n",
    "from datetime import datetime as dt\n",
    "\n",
    "from datetime import datetime as dt\n",
    "N= int(input())\n",
    "time_format = '%a %d %b %Y %H:%M:%S %z' #time format\n",
    "for i in range(N):\n",
    "    t1 = dt.strptime(input(), time_format) #getting t1\n",
    "    t2 = dt.strptime(input(), time_format) #getting t2\n",
    "    print(int(abs((t1 - t2).total_seconds()))) #Printing the absolute difference in secs\n",
    "    "
   ]
  },
  {
   "cell_type": "code",
   "execution_count": null,
   "metadata": {},
   "outputs": [],
   "source": [
    "#collections.Counter()\n",
    "\n",
    "from collections import Counter\n",
    "X = int(input())\n",
    "shoes = Counter(list(map(int,input().split())))\n",
    "N = int(input())\n",
    "income = 0\n",
    "for i in range(N): \n",
    "    customer = list(map(int,input().split()))\n",
    "    if shoes[customer[0]]:\n",
    "        income += customer[1]\n",
    "        shoes[customer[0]]-=1\n",
    "print(income)"
   ]
  },
  {
   "cell_type": "code",
   "execution_count": null,
   "metadata": {},
   "outputs": [],
   "source": [
    "#List Comprehensions\n",
    "\n",
    "if __name__ == '__main__':\n",
    "    x = int ( input())\n",
    "    y = int ( input())\n",
    "    z = int ( input())\n",
    "    n = int ( input())\n",
    "    print([ [ i, j , k] for i in range( x + 1) for j in range( y + 1) for k in range( z + 1) if ( ( i + j + k ) != n )])\n"
   ]
  },
  {
   "cell_type": "code",
   "execution_count": null,
   "metadata": {},
   "outputs": [],
   "source": [
    "#Introduction to Sets\n",
    "\n",
    "def average(array):\n",
    "    s = set(array)\n",
    "    return sum(s)/len(s)\n"
   ]
  },
  {
   "cell_type": "code",
   "execution_count": null,
   "metadata": {},
   "outputs": [],
   "source": [
    "#Calendar Module\n",
    "\n",
    "import calendar\n",
    "month, day, year = map(int,input().split()) #getting the date\n",
    "a = calendar.weekday(year, month, day)  #date object using calender \n",
    "print(calendar.day_name[a].upper())"
   ]
  },
  {
   "cell_type": "code",
   "execution_count": null,
   "metadata": {},
   "outputs": [],
   "source": [
    "#Exceptions\n",
    "\n",
    "T = int(input())\n",
    "for i in range(T):\n",
    "    try:\n",
    "        a,b = map(int, input().split())\n",
    "        print(a//b)\n",
    "    except BaseException as e:\n",
    "        print(\"Error Code:\",e)\n",
    "        "
   ]
  },
  {
   "cell_type": "code",
   "execution_count": null,
   "metadata": {},
   "outputs": [],
   "source": [
    "#Zipped!\n",
    "\n",
    "students, subjects = map(int, input().split())\n",
    "grades=[]\n",
    "for i in range(subjects):\n",
    "    grades.append(list(map(float, input().split())))\n",
    "for i in list(zip(*grades)):\n",
    "    print(sum(i)/len(i))\n",
    "    "
   ]
  },
  {
   "cell_type": "code",
   "execution_count": null,
   "metadata": {},
   "outputs": [],
   "source": [
    "#Arrays\n",
    "\n",
    "def arrays(arr):\n",
    "    arrnp = numpy.array(arr,float)\n",
    "    arrnp =numpy.flipud(arrnp)\n",
    "    return arrnp\n"
   ]
  },
  {
   "cell_type": "code",
   "execution_count": null,
   "metadata": {},
   "outputs": [],
   "source": [
    "#Shape and Reshape\n",
    "\n",
    "import numpy\n",
    "\n",
    "lst = list(map(int,input().split()))\n",
    "arr = numpy.array(lst)\n",
    "arr = numpy.reshape(arr,(3,3))\n",
    "print(arr)\n"
   ]
  },
  {
   "cell_type": "code",
   "execution_count": null,
   "metadata": {},
   "outputs": [],
   "source": [
    "#Concatenate\n",
    "\n",
    "import numpy as np\n",
    "\n",
    "N, M, P = map(int,input().split())\n",
    "a = np.array([input().split() for i in range(N)],int)\n",
    "b = np.array([input().split() for i in range(M)],int)\n",
    "print(np.concatenate((a, b), axis = 0))\n"
   ]
  },
  {
   "cell_type": "code",
   "execution_count": null,
   "metadata": {},
   "outputs": [],
   "source": [
    "#Zeros and Ones\n",
    "\n",
    "import numpy as np\n",
    "nums = tuple(map(int, input().split()))\n",
    "print (np.zeros(nums, dtype = np.int))\n",
    "print (np.ones(nums, dtype = np.int))\n"
   ]
  },
  {
   "cell_type": "code",
   "execution_count": null,
   "metadata": {},
   "outputs": [],
   "source": [
    "#Eye and Identity\n",
    "\n",
    "import numpy\n",
    "numpy.set_printoptions(legacy='1.13') #got this from Discussion to modify the print options\n",
    "print(str(numpy.eye(*map(int,input().split()))))\n"
   ]
  },
  {
   "cell_type": "code",
   "execution_count": null,
   "metadata": {},
   "outputs": [],
   "source": [
    "#Array Mathematics\n",
    "\n",
    "import numpy as np\n",
    "N,M = map(int,input().split())\n",
    "a = np.array([input().split() for i in range(N)],int)\n",
    "b = np.array([input().split() for i in range(N)],int)\n",
    "print(np.add(a,b))\n",
    "print(np.subtract(a,b))\n",
    "print(np.multiply(a,b))\n",
    "print(a//b)\n",
    "print(np.mod(a,b))\n",
    "print(np.power(a,b))\n"
   ]
  },
  {
   "cell_type": "code",
   "execution_count": null,
   "metadata": {},
   "outputs": [],
   "source": [
    "#Transpose and Flatten\n",
    "\n",
    "import numpy as np\n",
    "\n",
    "N,M = map(int,input().split())\n",
    "a = np.array([input().split() for i in range(N)],int)\n",
    "print(np.transpose(a))\n",
    "print(a.flatten())\n"
   ]
  },
  {
   "cell_type": "code",
   "execution_count": null,
   "metadata": {},
   "outputs": [],
   "source": [
    "#Sum and Prod\n",
    "\n",
    "import numpy as np\n",
    "\n",
    "N,M = map(int,input().split())\n",
    "a = np.array([input().split() for i in range(N)],int)\n",
    "print(np.prod(np.sum(a, axis=0), axis=0))\n"
   ]
  },
  {
   "cell_type": "code",
   "execution_count": null,
   "metadata": {},
   "outputs": [],
   "source": [
    "#Min and Max\n",
    "\n",
    "import numpy as np\n",
    "\n",
    "N,M = map(int,input().split())\n",
    "a = np.array([input().split() for i in range(N)],int)\n",
    "print(np.max(np.min(a,axis=1)))\n"
   ]
  },
  {
   "cell_type": "code",
   "execution_count": null,
   "metadata": {},
   "outputs": [],
   "source": [
    "#Mean, Var, and Std\n",
    "\n",
    "import numpy as np\n",
    "\n",
    "N,M = map(int,input().split())\n",
    "a = np.array([input().split() for i in range(N)],int)\n",
    "np.set_printoptions(legacy='1.13')\n",
    "print(np.mean(a,axis =1))\n",
    "print(np.var(a,axis=0))\n",
    "print(np.std(a, axis=None))\n"
   ]
  },
  {
   "cell_type": "code",
   "execution_count": null,
   "metadata": {},
   "outputs": [],
   "source": [
    "#Dot and Cross\n",
    "\n",
    "import numpy as np\n",
    "\n",
    "N = int(input())\n",
    "a = np.array([input().split() for i in range(N)],int)\n",
    "b = np.array([input().split() for i in range(N)],int)\n",
    "print(np.dot(a,b))\n"
   ]
  },
  {
   "cell_type": "code",
   "execution_count": null,
   "metadata": {},
   "outputs": [],
   "source": [
    "#Inner and Outer\n",
    "\n",
    "import numpy as np\n",
    "\n",
    "a = np.array(input().split(),int)\n",
    "b = np.array(input().split(),int)\n",
    "print(np.inner(a,b))\n",
    "print(np.outer(a,b))\n"
   ]
  },
  {
   "cell_type": "code",
   "execution_count": null,
   "metadata": {},
   "outputs": [],
   "source": [
    "#Polynomials\n",
    "\n",
    "import numpy as np\n",
    "\n",
    "P= list(map(float,input().split()))\n",
    "x= float(input())\n",
    "\n",
    "print(np.polyval(P,x))\n"
   ]
  },
  {
   "cell_type": "code",
   "execution_count": null,
   "metadata": {},
   "outputs": [],
   "source": [
    "#Linear Algebra\n",
    "\n",
    "import numpy as np\n",
    "\n",
    "N=int(input())\n",
    "a=np.array([input().split() for i in range(N)],float)\n",
    "np.set_printoptions(legacy='1.13') #for changing printing options to be accepted to hackerrank\n",
    "print(np.linalg.det(a))\n"
   ]
  },
  {
   "cell_type": "code",
   "execution_count": null,
   "metadata": {},
   "outputs": [],
   "source": [
    "#Floor, Ceil and Rint\n",
    "\n",
    "import numpy as np\n",
    "\n",
    "a = np.array(list(map(float, input().split())))\n",
    "np.set_printoptions(legacy='1.13')\n",
    "\n",
    "print(np.floor(a))\n",
    "print(np.ceil(a))\n",
    "print(np.rint(a))\n"
   ]
  },
  {
   "cell_type": "code",
   "execution_count": null,
   "metadata": {},
   "outputs": [],
   "source": [
    "#Map and Lambda Function\n",
    "\n",
    "cube = lambda x: x**3\n",
    "\n",
    "def fibonacci(n):\n",
    "    # return a list of fibonacci numbers\n",
    "    fib_lst=[]\n",
    "    i=0\n",
    "    while i < n:\n",
    "        if i ==0:\n",
    "            fib_lst.append(0)\n",
    "        elif i ==1:\n",
    "            fib_lst.append(1)\n",
    "        \n",
    "        else: fib_lst.append((fib_lst[i-2] + fib_lst[i-1]))\n",
    "        i+=1\n",
    "    return fib_lst\n"
   ]
  },
  {
   "cell_type": "code",
   "execution_count": null,
   "metadata": {},
   "outputs": [],
   "source": [
    "#Re.split()\n",
    "\n",
    "regex_pattern = r\"[.,]+\"\t# Do not delete 'r'.\n",
    "\n",
    "import re\n",
    "print(\"\\n\".join(re.split(regex_pattern, input())))"
   ]
  },
  {
   "cell_type": "markdown",
   "metadata": {},
   "source": [
    "# Problem 2 challenges"
   ]
  },
  {
   "cell_type": "code",
   "execution_count": null,
   "metadata": {},
   "outputs": [],
   "source": [
    "#Birthday Cake Candles\n",
    "\n",
    "\n",
    "import math\n",
    "import os\n",
    "import random\n",
    "import re\n",
    "import sys\n",
    "from collections import Counter\n",
    "\n",
    "# Complete the birthdayCakeCandles function below.\n",
    "def birthdayCakeCandles(ar):\n",
    "    #it is very semple using counter from collection\n",
    "    #get the value (count) of the max key\n",
    "    return Counter(ar).get(max(Counter(ar).keys()))\n",
    "\n",
    "if __name__ == '__main__':\n",
    "    fptr = open(os.environ['OUTPUT_PATH'], 'w')\n",
    "\n",
    "    ar_count = int(input())\n",
    "\n",
    "    ar = list(map(int, input().rstrip().split()))\n",
    "\n",
    "    result = birthdayCakeCandles(ar)\n",
    "\n",
    "    fptr.write(str(result) + '\\n')\n",
    "\n",
    "    fptr.close()\n"
   ]
  },
  {
   "cell_type": "code",
   "execution_count": null,
   "metadata": {},
   "outputs": [],
   "source": [
    "#Kangaroo\n",
    "\n",
    "import math\n",
    "import os\n",
    "import random\n",
    "import re\n",
    "import sys\n",
    "\n",
    "# Complete the kangaroo function below.\n",
    "def kangaroo(x1, v1, x2, v2):\n",
    "    #since the question restricted the problem with (making the same number of steps), then the mathematical solution based on that: c1 + s*v1 = c2 + s*v2\n",
    "    #\n",
    "    if (x1 == x2) and (v1 == v2):\n",
    "        # In case both Kans placed on the same point with same speed they will meet each other at the next step\n",
    "        return 'YES'\n",
    "    elif (x1 != x2) and (v1 == v2):\n",
    "        #In case they placed on the same point with diff speeds so they will never meet agan.\n",
    "        return 'NO'\n",
    "    elif (x2 - x1)%(v1-v2)==0 and (x2 - x1)/(v1-v2)> 0: \n",
    "        #first condition to make sure that (x2-x1)%(v1-v2)==0\n",
    "        #second condition to make sure that Kan2 is not faster than Kan1 and placed after it.\n",
    "        return 'YES'\n",
    "    else: return 'NO'\n",
    "    \n",
    "    \n",
    "\n",
    "if __name__ == '__main__':\n",
    "    fptr = open(os.environ['OUTPUT_PATH'], 'w')\n",
    "\n",
    "    x1V1X2V2 = input().split()\n",
    "\n",
    "    x1 = int(x1V1X2V2[0])\n",
    "\n",
    "    v1 = int(x1V1X2V2[1])\n",
    "\n",
    "    x2 = int(x1V1X2V2[2])\n",
    "\n",
    "    v2 = int(x1V1X2V2[3])\n",
    "\n",
    "    result = kangaroo(x1, v1, x2, v2)\n",
    "\n",
    "    fptr.write(result + '\\n')\n",
    "\n",
    "    fptr.close()\n"
   ]
  },
  {
   "cell_type": "code",
   "execution_count": null,
   "metadata": {},
   "outputs": [],
   "source": [
    "#Viral Advertising\n",
    "\n",
    "import math\n",
    "import os\n",
    "import random\n",
    "import re\n",
    "import sys\n",
    "\n",
    "# Complete the viralAdvertising function below.\n",
    "def viralAdvertising(n):\n",
    "    shared=5\n",
    "    comulative =0\n",
    "    for day in range(n):\n",
    "        liked = shared//2\n",
    "        comulative+=liked\n",
    "        shared = liked*3\n",
    "    return comulative\n",
    "\n",
    "if __name__ == '__main__':\n",
    "    fptr = open(os.environ['OUTPUT_PATH'], 'w')\n",
    "\n",
    "    n = int(input())\n",
    "\n",
    "    result = viralAdvertising(n)\n",
    "\n",
    "    fptr.write(str(result) + '\\n')\n",
    "\n",
    "    fptr.close()\n"
   ]
  },
  {
   "cell_type": "code",
   "execution_count": null,
   "metadata": {},
   "outputs": [],
   "source": [
    "#Recursive Digit Sum\n",
    "\n",
    "import math\n",
    "import os\n",
    "import random\n",
    "import re\n",
    "import sys\n",
    "\n",
    "\n",
    "#this code is logically correct but the test cases in Hacker rank are highly expensive \n",
    "#and give a runtime error [Your code did not execute within the time limits]\n",
    "def superDigit(n, k):\n",
    "    num = n*k\n",
    "    if len(num)==1:\n",
    "        return int(num)\n",
    "    else:\n",
    "        print(num)\n",
    "        new_num= sum(list(map(int,str(n))))*k\n",
    "        print(new_num)\n",
    "        return superDigit(str(new_num),1)\n",
    "\n",
    "if __name__ == '__main__':\n",
    "    fptr = open(os.environ['OUTPUT_PATH'], 'w')\n",
    "\n",
    "    nk = input().split()\n",
    "\n",
    "    n = nk[0]\n",
    "\n",
    "    k = int(nk[1])\n",
    "\n",
    "    result = superDigit(n, k)\n",
    "\n",
    "    fptr.write(str(result) + '\\n')\n",
    "\n",
    "    fptr.close()\n"
   ]
  },
  {
   "cell_type": "code",
   "execution_count": null,
   "metadata": {},
   "outputs": [],
   "source": [
    "#Insertion Sort - Part 1\n",
    "\n",
    "import math\n",
    "import os\n",
    "import random\n",
    "import re\n",
    "import sys\n",
    "\n",
    "# Complete the insertionSort1 function below.\n",
    "def insertionSort1(n, arr):\n",
    "    ist= arr[n-1]\n",
    "    for i in range(n-1,0, -1):\n",
    "        if arr[i-1] >ist: \n",
    "            arr[i]=arr[i-1]\n",
    "            print(*arr, sep=' ')\n",
    "        else: \n",
    "            arr[i]= ist\n",
    "            print(*arr, sep=' ')\n",
    "            break\n",
    "    \n",
    "\n",
    "\n",
    "if __name__ == '__main__':\n",
    "    n = int(input())\n",
    "\n",
    "    arr = list(map(int, input().rstrip().split()))\n",
    "\n",
    "    insertionSort1(n, arr)\n"
   ]
  },
  {
   "cell_type": "code",
   "execution_count": null,
   "metadata": {},
   "outputs": [],
   "source": []
  },
  {
   "cell_type": "code",
   "execution_count": null,
   "metadata": {},
   "outputs": [],
   "source": []
  }
 ],
 "metadata": {
  "kernelspec": {
   "display_name": "Python 3",
   "language": "python",
   "name": "python3"
  },
  "language_info": {
   "codemirror_mode": {
    "name": "ipython",
    "version": 3
   },
   "file_extension": ".py",
   "mimetype": "text/x-python",
   "name": "python",
   "nbconvert_exporter": "python",
   "pygments_lexer": "ipython3",
   "version": "3.7.3"
  }
 },
 "nbformat": 4,
 "nbformat_minor": 2
}
